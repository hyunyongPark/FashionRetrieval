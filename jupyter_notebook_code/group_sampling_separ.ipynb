{
 "cells": [
  {
   "cell_type": "code",
   "execution_count": 1,
   "id": "million-component",
   "metadata": {},
   "outputs": [],
   "source": [
    "import numpy as np\n",
    "import pandas as pd\n",
    "import matplotlib.pyplot as plt\n",
    "import plotly.express as px\n",
    "import tqdm\n",
    "from sklearn import preprocessing\n",
    "import random\n",
    "import cv2"
   ]
  },
  {
   "cell_type": "code",
   "execution_count": 2,
   "id": "certain-phenomenon",
   "metadata": {},
   "outputs": [
    {
     "name": "stdout",
     "output_type": "stream",
     "text": [
      "(996475, 9)\n"
     ]
    },
    {
     "data": {
      "text/html": [
       "<div>\n",
       "<style scoped>\n",
       "    .dataframe tbody tr th:only-of-type {\n",
       "        vertical-align: middle;\n",
       "    }\n",
       "\n",
       "    .dataframe tbody tr th {\n",
       "        vertical-align: top;\n",
       "    }\n",
       "\n",
       "    .dataframe thead th {\n",
       "        text-align: right;\n",
       "    }\n",
       "</style>\n",
       "<table border=\"1\" class=\"dataframe\">\n",
       "  <thead>\n",
       "    <tr style=\"text-align: right;\">\n",
       "      <th></th>\n",
       "      <th>image_name</th>\n",
       "      <th>colors</th>\n",
       "      <th>color</th>\n",
       "      <th>sub_category_x</th>\n",
       "      <th>sub_category_y</th>\n",
       "      <th>style</th>\n",
       "      <th>fit</th>\n",
       "      <th>print</th>\n",
       "      <th>print_length</th>\n",
       "    </tr>\n",
       "  </thead>\n",
       "  <tbody>\n",
       "    <tr>\n",
       "      <th>0</th>\n",
       "      <td>train/street_1330115_t-shirt.jpg</td>\n",
       "      <td>lightgray</td>\n",
       "      <td>화이트</td>\n",
       "      <td>t-shirt</td>\n",
       "      <td>t-shirt</td>\n",
       "      <td>street</td>\n",
       "      <td>루즈</td>\n",
       "      <td>['레터링']</td>\n",
       "      <td>1</td>\n",
       "    </tr>\n",
       "    <tr>\n",
       "      <th>1</th>\n",
       "      <td>train/romantic_1168617_jean.jpg</td>\n",
       "      <td>darkgray</td>\n",
       "      <td>블루</td>\n",
       "      <td>jean</td>\n",
       "      <td>jean</td>\n",
       "      <td>romantic</td>\n",
       "      <td>와이드</td>\n",
       "      <td>['무지']</td>\n",
       "      <td>1</td>\n",
       "    </tr>\n",
       "  </tbody>\n",
       "</table>\n",
       "</div>"
      ],
      "text/plain": [
       "                         image_name     colors color sub_category_x  \\\n",
       "0  train/street_1330115_t-shirt.jpg  lightgray   화이트        t-shirt   \n",
       "1   train/romantic_1168617_jean.jpg   darkgray    블루           jean   \n",
       "\n",
       "  sub_category_y     style  fit    print  print_length  \n",
       "0        t-shirt    street   루즈  ['레터링']             1  \n",
       "1           jean  romantic  와이드   ['무지']             1  "
      ]
     },
     "execution_count": 2,
     "metadata": {},
     "output_type": "execute_result"
    }
   ],
   "source": [
    "tr = pd.read_csv('./f_tr.csv',index_col=0)\n",
    "tr['image_name'] = 'train/' + tr.image_name\n",
    "print(tr.shape)\n",
    "tr.head(2)"
   ]
  },
  {
   "cell_type": "code",
   "execution_count": 3,
   "id": "204eccf3",
   "metadata": {},
   "outputs": [
    {
     "name": "stdout",
     "output_type": "stream",
     "text": [
      "(123437, 9)\n"
     ]
    },
    {
     "data": {
      "text/html": [
       "<div>\n",
       "<style scoped>\n",
       "    .dataframe tbody tr th:only-of-type {\n",
       "        vertical-align: middle;\n",
       "    }\n",
       "\n",
       "    .dataframe tbody tr th {\n",
       "        vertical-align: top;\n",
       "    }\n",
       "\n",
       "    .dataframe thead th {\n",
       "        text-align: right;\n",
       "    }\n",
       "</style>\n",
       "<table border=\"1\" class=\"dataframe\">\n",
       "  <thead>\n",
       "    <tr style=\"text-align: right;\">\n",
       "      <th></th>\n",
       "      <th>image_name</th>\n",
       "      <th>colors</th>\n",
       "      <th>color</th>\n",
       "      <th>sub_category_x</th>\n",
       "      <th>sub_category_y</th>\n",
       "      <th>style</th>\n",
       "      <th>fit</th>\n",
       "      <th>print</th>\n",
       "      <th>print_length</th>\n",
       "    </tr>\n",
       "  </thead>\n",
       "  <tbody>\n",
       "    <tr>\n",
       "      <th>0</th>\n",
       "      <td>val/street_411249_shirt.jpg</td>\n",
       "      <td>brown</td>\n",
       "      <td>브라운</td>\n",
       "      <td>shirt</td>\n",
       "      <td>shirt</td>\n",
       "      <td>street</td>\n",
       "      <td>루즈</td>\n",
       "      <td>['체크']</td>\n",
       "      <td>1</td>\n",
       "    </tr>\n",
       "    <tr>\n",
       "      <th>1</th>\n",
       "      <td>val/resort_1030135_jacket.jpg</td>\n",
       "      <td>gray</td>\n",
       "      <td>그레이</td>\n",
       "      <td>jacket</td>\n",
       "      <td>jacket</td>\n",
       "      <td>resort</td>\n",
       "      <td>루즈</td>\n",
       "      <td>['무지']</td>\n",
       "      <td>1</td>\n",
       "    </tr>\n",
       "  </tbody>\n",
       "</table>\n",
       "</div>"
      ],
      "text/plain": [
       "                      image_name colors color sub_category_x sub_category_y  \\\n",
       "0    val/street_411249_shirt.jpg  brown   브라운          shirt          shirt   \n",
       "1  val/resort_1030135_jacket.jpg   gray   그레이         jacket         jacket   \n",
       "\n",
       "    style fit   print  print_length  \n",
       "0  street  루즈  ['체크']             1  \n",
       "1  resort  루즈  ['무지']             1  "
      ]
     },
     "execution_count": 3,
     "metadata": {},
     "output_type": "execute_result"
    }
   ],
   "source": [
    "val = pd.read_csv('./f_val.csv',index_col=0)\n",
    "val['image_name'] = 'val/' + val.image_name\n",
    "print(val.shape)\n",
    "val.head(2)"
   ]
  },
  {
   "cell_type": "code",
   "execution_count": 4,
   "id": "37d5ba0e",
   "metadata": {},
   "outputs": [],
   "source": [
    "df = pd.concat([tr,val]).reset_index(drop=True)"
   ]
  },
  {
   "cell_type": "code",
   "execution_count": 5,
   "id": "5b734074",
   "metadata": {},
   "outputs": [],
   "source": [
    "# df = df.loc[df.colors!=\"etc\", :].reset_index(drop=True)"
   ]
  },
  {
   "cell_type": "code",
   "execution_count": 6,
   "id": "cf4dcd15",
   "metadata": {},
   "outputs": [],
   "source": [
    "df[\"sub_category\"] = df[\"sub_category_x\"]\n",
    "df[\"print\"] = [df['print'][i][2:-2] for i in range(len(df))]\n",
    "df = df.drop(['style', 'sub_category_x', 'sub_category_y', 'colors'],axis=1)"
   ]
  },
  {
   "cell_type": "code",
   "execution_count": 7,
   "id": "bearing-liberal",
   "metadata": {},
   "outputs": [],
   "source": [
    "def get_label_groups_basic(dt):\n",
    "    dat = dt.copy()\n",
    "    category = dat.sub_category.to_list()\n",
    "    color = dat.color.to_list()\n",
    "    \n",
    "    comb_ls = [category[x]+','+color[x] for x in range(len(category))]\n",
    "    #Encoding\n",
    "    le = preprocessing.LabelEncoder()\n",
    "    le.fit(comb_ls)\n",
    "    comb_idx = le.transform(comb_ls)\n",
    "    \n",
    "    dat['comb'] = comb_ls\n",
    "    dat['label_group'] = comb_idx\n",
    "    \n",
    "    return dat"
   ]
  },
  {
   "cell_type": "code",
   "execution_count": 8,
   "id": "089c0014",
   "metadata": {},
   "outputs": [],
   "source": [
    "def get_label_groups_semi(dt):\n",
    "    dat = dt.copy()\n",
    "    category = dat.sub_category.to_list()\n",
    "    color = dat.color.to_list()\n",
    "    pr = dat.print.to_list()\n",
    "    \n",
    "    comb_ls = [category[x]+','+color[x]+','+ pr[x] for x in range(len(category))]\n",
    "    #Encoding\n",
    "    le = preprocessing.LabelEncoder()\n",
    "    le.fit(comb_ls)\n",
    "    comb_idx = le.transform(comb_ls)\n",
    "    \n",
    "    dat['comb'] = comb_ls\n",
    "    dat['label_group'] = comb_idx\n",
    "    \n",
    "    return dat"
   ]
  },
  {
   "cell_type": "code",
   "execution_count": 9,
   "id": "206468a3",
   "metadata": {},
   "outputs": [],
   "source": [
    "def get_label_groups_full(dt):\n",
    "    dat = dt.copy()\n",
    "    category = dat.sub_category.to_list()\n",
    "    color = dat.color.to_list()\n",
    "    pr = dat.print.to_list()\n",
    "    fit = dat.fit.to_list()\n",
    "    \n",
    "    comb_ls = [category[x]+','+color[x]+','+ pr[x] +','+fit[x] for x in range(len(category))]\n",
    "    #Encoding\n",
    "    le = preprocessing.LabelEncoder()\n",
    "    le.fit(comb_ls)\n",
    "    comb_idx = le.transform(comb_ls)\n",
    "    \n",
    "    dat['comb'] = comb_ls\n",
    "    dat['label_group'] = comb_idx\n",
    "    \n",
    "    return dat"
   ]
  },
  {
   "cell_type": "code",
   "execution_count": 10,
   "id": "suburban-sender",
   "metadata": {},
   "outputs": [],
   "source": [
    "def get_encoded_groups(df):\n",
    "    df_ = df.groupby(['label_group'])['image_name'].apply(lambda x: ','.join(x))\n",
    "    encoded_df = pd.DataFrame({'label_group':df_.index,\n",
    "                             'image_group':df_.values})\n",
    "    \n",
    "    encoded_df['len'] = encoded_df.image_group.apply(lambda x : len(x.split(','))) \n",
    "    encoded_df[\"image_group\"] = [x.split(',') for x in encoded_df['image_group']]\n",
    "    return encoded_df"
   ]
  },
  {
   "cell_type": "code",
   "execution_count": 11,
   "id": "23eb928a",
   "metadata": {},
   "outputs": [],
   "source": [
    "sample_num = 100000"
   ]
  },
  {
   "cell_type": "code",
   "execution_count": 12,
   "id": "unavailable-literacy",
   "metadata": {},
   "outputs": [],
   "source": [
    "#tf = get_label_groups_full(df)\n",
    "#tf = get_label_groups_semi(df)\n",
    "tf = get_label_groups_basic(df)\n",
    "encoded_df = get_encoded_groups(tf)"
   ]
  },
  {
   "cell_type": "code",
   "execution_count": 13,
   "id": "3c3ed1ab",
   "metadata": {},
   "outputs": [],
   "source": [
    "a = pd.merge(tf, encoded_df[[\"label_group\", \"len\"]], on=\"label_group\")\n",
    "a = a[a[\"len\"] > 10].reset_index(drop=True)\n",
    "#a = a[a[\"len\"] >= sample_num].reset_index(drop=True)\n",
    "a = a.sample(frac=0.5).reset_index(drop=True)\n",
    "#a = a.sample(frac=1).reset_index(drop=True)\n",
    "del a[\"len\"]\n",
    "tf = get_label_groups_basic(a)\n",
    "encoded_df = get_encoded_groups(tf)"
   ]
  },
  {
   "cell_type": "code",
   "execution_count": 14,
   "id": "54c15cd5",
   "metadata": {},
   "outputs": [
    {
     "data": {
      "text/html": [
       "<div>\n",
       "<style scoped>\n",
       "    .dataframe tbody tr th:only-of-type {\n",
       "        vertical-align: middle;\n",
       "    }\n",
       "\n",
       "    .dataframe tbody tr th {\n",
       "        vertical-align: top;\n",
       "    }\n",
       "\n",
       "    .dataframe thead th {\n",
       "        text-align: right;\n",
       "    }\n",
       "</style>\n",
       "<table border=\"1\" class=\"dataframe\">\n",
       "  <thead>\n",
       "    <tr style=\"text-align: right;\">\n",
       "      <th></th>\n",
       "      <th>image_name</th>\n",
       "      <th>color</th>\n",
       "      <th>fit</th>\n",
       "      <th>print</th>\n",
       "      <th>print_length</th>\n",
       "      <th>sub_category</th>\n",
       "      <th>comb</th>\n",
       "      <th>label_group</th>\n",
       "    </tr>\n",
       "  </thead>\n",
       "  <tbody>\n",
       "    <tr>\n",
       "      <th>0</th>\n",
       "      <td>train/military_468201_jumpsuit.jpg</td>\n",
       "      <td>카키</td>\n",
       "      <td>노멀</td>\n",
       "      <td>무지</td>\n",
       "      <td>1</td>\n",
       "      <td>jumpsuit</td>\n",
       "      <td>jumpsuit,카키</td>\n",
       "      <td>187</td>\n",
       "    </tr>\n",
       "    <tr>\n",
       "      <th>1</th>\n",
       "      <td>train/street_444471_t-shirt.jpg</td>\n",
       "      <td>베이지</td>\n",
       "      <td>루즈</td>\n",
       "      <td>무지</td>\n",
       "      <td>1</td>\n",
       "      <td>t-shirt</td>\n",
       "      <td>t-shirt,베이지</td>\n",
       "      <td>298</td>\n",
       "    </tr>\n",
       "    <tr>\n",
       "      <th>2</th>\n",
       "      <td>train/country_802026_skirt.jpg</td>\n",
       "      <td>베이지</td>\n",
       "      <td>노멀</td>\n",
       "      <td>체크</td>\n",
       "      <td>1</td>\n",
       "      <td>skirt</td>\n",
       "      <td>skirt,베이지</td>\n",
       "      <td>277</td>\n",
       "    </tr>\n",
       "    <tr>\n",
       "      <th>3</th>\n",
       "      <td>val/street_33882_t-shirt.jpg</td>\n",
       "      <td>레드</td>\n",
       "      <td>루즈</td>\n",
       "      <td>스트라이프</td>\n",
       "      <td>1</td>\n",
       "      <td>t-shirt</td>\n",
       "      <td>t-shirt,레드</td>\n",
       "      <td>296</td>\n",
       "    </tr>\n",
       "    <tr>\n",
       "      <th>4</th>\n",
       "      <td>train/country_1104574_t-shirt.jpg</td>\n",
       "      <td>카키</td>\n",
       "      <td>노멀</td>\n",
       "      <td>무지</td>\n",
       "      <td>1</td>\n",
       "      <td>t-shirt</td>\n",
       "      <td>t-shirt,카키</td>\n",
       "      <td>307</td>\n",
       "    </tr>\n",
       "    <tr>\n",
       "      <th>...</th>\n",
       "      <td>...</td>\n",
       "      <td>...</td>\n",
       "      <td>...</td>\n",
       "      <td>...</td>\n",
       "      <td>...</td>\n",
       "      <td>...</td>\n",
       "      <td>...</td>\n",
       "      <td>...</td>\n",
       "    </tr>\n",
       "    <tr>\n",
       "      <th>559917</th>\n",
       "      <td>train/avantgarde_63550_dress.jpg</td>\n",
       "      <td>레드</td>\n",
       "      <td>노멀</td>\n",
       "      <td>믹스</td>\n",
       "      <td>1</td>\n",
       "      <td>dress</td>\n",
       "      <td>dress,레드</td>\n",
       "      <td>80</td>\n",
       "    </tr>\n",
       "    <tr>\n",
       "      <th>559918</th>\n",
       "      <td>train/resort_305343_pants.jpg</td>\n",
       "      <td>블랙</td>\n",
       "      <td>노멀</td>\n",
       "      <td>무지</td>\n",
       "      <td>1</td>\n",
       "      <td>pants</td>\n",
       "      <td>pants,블랙</td>\n",
       "      <td>237</td>\n",
       "    </tr>\n",
       "    <tr>\n",
       "      <th>559919</th>\n",
       "      <td>train/street_1280155_shirt.jpg</td>\n",
       "      <td>화이트</td>\n",
       "      <td>루즈</td>\n",
       "      <td>스트라이프</td>\n",
       "      <td>1</td>\n",
       "      <td>shirt</td>\n",
       "      <td>shirt,화이트</td>\n",
       "      <td>268</td>\n",
       "    </tr>\n",
       "    <tr>\n",
       "      <th>559920</th>\n",
       "      <td>train/street_1165548_skirt.jpg</td>\n",
       "      <td>화이트</td>\n",
       "      <td>루즈</td>\n",
       "      <td>도트</td>\n",
       "      <td>1</td>\n",
       "      <td>skirt</td>\n",
       "      <td>skirt,화이트</td>\n",
       "      <td>289</td>\n",
       "    </tr>\n",
       "    <tr>\n",
       "      <th>559921</th>\n",
       "      <td>train/tomboy_661029_shirt.jpg</td>\n",
       "      <td>스카이블루</td>\n",
       "      <td>루즈</td>\n",
       "      <td>무지</td>\n",
       "      <td>1</td>\n",
       "      <td>shirt</td>\n",
       "      <td>shirt,스카이블루</td>\n",
       "      <td>260</td>\n",
       "    </tr>\n",
       "  </tbody>\n",
       "</table>\n",
       "<p>559922 rows × 8 columns</p>\n",
       "</div>"
      ],
      "text/plain": [
       "                                image_name  color fit  print  print_length  \\\n",
       "0       train/military_468201_jumpsuit.jpg     카키  노멀     무지             1   \n",
       "1          train/street_444471_t-shirt.jpg    베이지  루즈     무지             1   \n",
       "2           train/country_802026_skirt.jpg    베이지  노멀     체크             1   \n",
       "3             val/street_33882_t-shirt.jpg     레드  루즈  스트라이프             1   \n",
       "4        train/country_1104574_t-shirt.jpg     카키  노멀     무지             1   \n",
       "...                                    ...    ...  ..    ...           ...   \n",
       "559917    train/avantgarde_63550_dress.jpg     레드  노멀     믹스             1   \n",
       "559918       train/resort_305343_pants.jpg     블랙  노멀     무지             1   \n",
       "559919      train/street_1280155_shirt.jpg    화이트  루즈  스트라이프             1   \n",
       "559920      train/street_1165548_skirt.jpg    화이트  루즈     도트             1   \n",
       "559921       train/tomboy_661029_shirt.jpg  스카이블루  루즈     무지             1   \n",
       "\n",
       "       sub_category         comb  label_group  \n",
       "0          jumpsuit  jumpsuit,카키          187  \n",
       "1           t-shirt  t-shirt,베이지          298  \n",
       "2             skirt    skirt,베이지          277  \n",
       "3           t-shirt   t-shirt,레드          296  \n",
       "4           t-shirt   t-shirt,카키          307  \n",
       "...             ...          ...          ...  \n",
       "559917        dress     dress,레드           80  \n",
       "559918        pants     pants,블랙          237  \n",
       "559919        shirt    shirt,화이트          268  \n",
       "559920        skirt    skirt,화이트          289  \n",
       "559921        shirt  shirt,스카이블루          260  \n",
       "\n",
       "[559922 rows x 8 columns]"
      ]
     },
     "execution_count": 14,
     "metadata": {},
     "output_type": "execute_result"
    }
   ],
   "source": [
    "tf"
   ]
  },
  {
   "cell_type": "code",
   "execution_count": 15,
   "id": "f10eff3c",
   "metadata": {},
   "outputs": [
    {
     "data": {
      "text/html": [
       "<div>\n",
       "<style scoped>\n",
       "    .dataframe tbody tr th:only-of-type {\n",
       "        vertical-align: middle;\n",
       "    }\n",
       "\n",
       "    .dataframe tbody tr th {\n",
       "        vertical-align: top;\n",
       "    }\n",
       "\n",
       "    .dataframe thead th {\n",
       "        text-align: right;\n",
       "    }\n",
       "</style>\n",
       "<table border=\"1\" class=\"dataframe\">\n",
       "  <thead>\n",
       "    <tr style=\"text-align: right;\">\n",
       "      <th></th>\n",
       "      <th>label_group</th>\n",
       "      <th>image_group</th>\n",
       "      <th>len</th>\n",
       "    </tr>\n",
       "  </thead>\n",
       "  <tbody>\n",
       "    <tr>\n",
       "      <th>0</th>\n",
       "      <td>0</td>\n",
       "      <td>[train/manish_546453_best.jpg, train/modern_70...</td>\n",
       "      <td>948</td>\n",
       "    </tr>\n",
       "    <tr>\n",
       "      <th>1</th>\n",
       "      <td>1</td>\n",
       "      <td>[train/street_1223332_best.jpg, val/street_111...</td>\n",
       "      <td>146</td>\n",
       "    </tr>\n",
       "    <tr>\n",
       "      <th>2</th>\n",
       "      <td>2</td>\n",
       "      <td>[train/street_1058950_best.jpg, train/street_1...</td>\n",
       "      <td>51</td>\n",
       "    </tr>\n",
       "    <tr>\n",
       "      <th>3</th>\n",
       "      <td>3</td>\n",
       "      <td>[train/street_1070648_best.jpg, train/country_...</td>\n",
       "      <td>252</td>\n",
       "    </tr>\n",
       "    <tr>\n",
       "      <th>4</th>\n",
       "      <td>4</td>\n",
       "      <td>[train/modern_165778_best.jpg, val/street_1081...</td>\n",
       "      <td>29</td>\n",
       "    </tr>\n",
       "    <tr>\n",
       "      <th>...</th>\n",
       "      <td>...</td>\n",
       "      <td>...</td>\n",
       "      <td>...</td>\n",
       "    </tr>\n",
       "    <tr>\n",
       "      <th>347</th>\n",
       "      <td>347</td>\n",
       "      <td>[train/sporty_353381_zipup.jpg, train/genderle...</td>\n",
       "      <td>13</td>\n",
       "    </tr>\n",
       "    <tr>\n",
       "      <th>348</th>\n",
       "      <td>348</td>\n",
       "      <td>[train/genderless_943800_zipup.jpg, train/stre...</td>\n",
       "      <td>101</td>\n",
       "    </tr>\n",
       "    <tr>\n",
       "      <th>349</th>\n",
       "      <td>349</td>\n",
       "      <td>[val/street_353355_zipup.jpg, train/street_130...</td>\n",
       "      <td>29</td>\n",
       "    </tr>\n",
       "    <tr>\n",
       "      <th>350</th>\n",
       "      <td>350</td>\n",
       "      <td>[train/street_1060528_zipup.jpg, train/street_...</td>\n",
       "      <td>270</td>\n",
       "    </tr>\n",
       "    <tr>\n",
       "      <th>351</th>\n",
       "      <td>351</td>\n",
       "      <td>[train/street_88630_zipup.jpg, train/sporty_56...</td>\n",
       "      <td>227</td>\n",
       "    </tr>\n",
       "  </tbody>\n",
       "</table>\n",
       "<p>352 rows × 3 columns</p>\n",
       "</div>"
      ],
      "text/plain": [
       "     label_group                                        image_group  len\n",
       "0              0  [train/manish_546453_best.jpg, train/modern_70...  948\n",
       "1              1  [train/street_1223332_best.jpg, val/street_111...  146\n",
       "2              2  [train/street_1058950_best.jpg, train/street_1...   51\n",
       "3              3  [train/street_1070648_best.jpg, train/country_...  252\n",
       "4              4  [train/modern_165778_best.jpg, val/street_1081...   29\n",
       "..           ...                                                ...  ...\n",
       "347          347  [train/sporty_353381_zipup.jpg, train/genderle...   13\n",
       "348          348  [train/genderless_943800_zipup.jpg, train/stre...  101\n",
       "349          349  [val/street_353355_zipup.jpg, train/street_130...   29\n",
       "350          350  [train/street_1060528_zipup.jpg, train/street_...  270\n",
       "351          351  [train/street_88630_zipup.jpg, train/sporty_56...  227\n",
       "\n",
       "[352 rows x 3 columns]"
      ]
     },
     "execution_count": 15,
     "metadata": {},
     "output_type": "execute_result"
    }
   ],
   "source": [
    "encoded_df"
   ]
  },
  {
   "cell_type": "code",
   "execution_count": 16,
   "id": "5db79e80",
   "metadata": {},
   "outputs": [],
   "source": [
    "# label_ls = encoded_df.label_group.to_list()\n",
    "# sampled_ls = [random.sample(x,sample_num) for x in encoded_df.image_group.values.tolist()] \n",
    "# sampled_df = pd.DataFrame({'label_group' : label_ls,\n",
    "#                            'image_group' : sampled_ls})"
   ]
  },
  {
   "cell_type": "code",
   "execution_count": 17,
   "id": "b4dddb82",
   "metadata": {},
   "outputs": [],
   "source": [
    "# sampled_df['len'] = sampled_df['image_group'].apply(lambda x : len(x))"
   ]
  },
  {
   "cell_type": "code",
   "execution_count": 18,
   "id": "af95072d",
   "metadata": {},
   "outputs": [],
   "source": [
    "# encoded_df['label_group2'] = encoded_df.label_group.astype('str')\n",
    "# # px.histogram(encoded_df, x=\"label_group2\", y=\"len\", marginal=\"violin\", color_discrete_sequence=px.colors.sequential.Plasma)"
   ]
  },
  {
   "cell_type": "code",
   "execution_count": 19,
   "id": "4cf08518",
   "metadata": {},
   "outputs": [],
   "source": [
    "# px.box(encoded_df, y='len', points=\"all\")"
   ]
  },
  {
   "cell_type": "code",
   "execution_count": 20,
   "id": "38e2f0e8",
   "metadata": {},
   "outputs": [],
   "source": [
    "# tf.to_csv(\"separ_meta.csv\")"
   ]
  },
  {
   "cell_type": "markdown",
   "id": "executed-borough",
   "metadata": {},
   "source": [
    "### Under-sampling"
   ]
  },
  {
   "cell_type": "code",
   "execution_count": 21,
   "id": "subsequent-duncan",
   "metadata": {},
   "outputs": [],
   "source": [
    "# encoded_df[(encoded_df.len<=105) & (encoded_df.len>=30)]"
   ]
  },
  {
   "cell_type": "code",
   "execution_count": 22,
   "id": "brave-survivor",
   "metadata": {},
   "outputs": [],
   "source": [
    "random.seed = 225"
   ]
  },
  {
   "cell_type": "code",
   "execution_count": 23,
   "id": "ideal-shift",
   "metadata": {},
   "outputs": [],
   "source": [
    "def reshape_df(df,args):\n",
    "    params = int(args)\n",
    "    encoded_df = df.copy()\n",
    "    sum_over = len(encoded_df[encoded_df.len > params]) * params\n",
    "    sum_under = sum(encoded_df[encoded_df.len<=params].len)\n",
    "\n",
    "    unsampled_df = encoded_df[encoded_df.len <= params].copy()\n",
    "    unsampled_df['image_group'] = [x.split(',') for x in unsampled_df['image_group']]\n",
    "    \n",
    "    #sampling\n",
    "    label_ls = encoded_df[encoded_df.len>params].label_group.to_list()\n",
    "    img_ls = [x.split(',') for x in encoded_df[encoded_df.len>params].image_group]\n",
    "    sampled_ls = [random.sample(x,params) for x in img_ls] \n",
    "    sampled_df = pd.DataFrame({'label_group' : label_ls,\n",
    "                       'image_group' : sampled_ls})\n",
    "    #combine\n",
    "    df = pd.concat([unsampled_df,sampled_df],ignore_index=True)\n",
    "    #df = df.sort_values('label_group').reset_index(drop=True)\n",
    "    df['len'] = df['image_group'].apply(lambda x : len(x))\n",
    "    \n",
    "    print(f' Train에 사용되는 그룹별 최대 이미지는 {params}개, 클래스는 {df.label_group.nunique()}개, 총 이미지 수는: {sum_over + sum_under}개 입니다.')\n",
    "\n",
    "    return df"
   ]
  },
  {
   "cell_type": "markdown",
   "id": "honey-forwarding",
   "metadata": {},
   "source": [
    "## train dataframe 생성"
   ]
  },
  {
   "cell_type": "code",
   "execution_count": 24,
   "id": "distinguished-institute",
   "metadata": {},
   "outputs": [],
   "source": [
    "def get_train_df(df):\n",
    "    k = df.copy()\n",
    "    li,pi = [],[]\n",
    "    for i in k. image_group:\n",
    "        for j in i:\n",
    "            li.append(j)\n",
    "    \n",
    "    pr = [[k.label_group[x]]*k.len[x] for x in k.label_group]\n",
    "    for i in pr:\n",
    "        for j in i:\n",
    "            pi.append(j)\n",
    "\n",
    "    train_df = pd.DataFrame({'image_name': li,\n",
    "                             'label_group' : pi})\n",
    "    train_df = train_df.reset_index(drop=True)\n",
    "    \n",
    "    return train_df\n"
   ]
  },
  {
   "cell_type": "code",
   "execution_count": 25,
   "id": "electronic-singapore",
   "metadata": {},
   "outputs": [
    {
     "data": {
      "text/html": [
       "<div>\n",
       "<style scoped>\n",
       "    .dataframe tbody tr th:only-of-type {\n",
       "        vertical-align: middle;\n",
       "    }\n",
       "\n",
       "    .dataframe tbody tr th {\n",
       "        vertical-align: top;\n",
       "    }\n",
       "\n",
       "    .dataframe thead th {\n",
       "        text-align: right;\n",
       "    }\n",
       "</style>\n",
       "<table border=\"1\" class=\"dataframe\">\n",
       "  <thead>\n",
       "    <tr style=\"text-align: right;\">\n",
       "      <th></th>\n",
       "      <th>image_name</th>\n",
       "      <th>label_group</th>\n",
       "    </tr>\n",
       "  </thead>\n",
       "  <tbody>\n",
       "    <tr>\n",
       "      <th>0</th>\n",
       "      <td>train/manish_546453_best.jpg</td>\n",
       "      <td>0</td>\n",
       "    </tr>\n",
       "    <tr>\n",
       "      <th>1</th>\n",
       "      <td>train/modern_709120_best.jpg</td>\n",
       "      <td>0</td>\n",
       "    </tr>\n",
       "    <tr>\n",
       "      <th>2</th>\n",
       "      <td>train/classic_746922_best.jpg</td>\n",
       "      <td>0</td>\n",
       "    </tr>\n",
       "    <tr>\n",
       "      <th>3</th>\n",
       "      <td>train/modern_1342796_best.jpg</td>\n",
       "      <td>0</td>\n",
       "    </tr>\n",
       "    <tr>\n",
       "      <th>4</th>\n",
       "      <td>train/street_1223318_best.jpg</td>\n",
       "      <td>0</td>\n",
       "    </tr>\n",
       "    <tr>\n",
       "      <th>...</th>\n",
       "      <td>...</td>\n",
       "      <td>...</td>\n",
       "    </tr>\n",
       "    <tr>\n",
       "      <th>559917</th>\n",
       "      <td>train/sporty_976385_zipup.jpg</td>\n",
       "      <td>351</td>\n",
       "    </tr>\n",
       "    <tr>\n",
       "      <th>559918</th>\n",
       "      <td>train/street_192044_zipup.jpg</td>\n",
       "      <td>351</td>\n",
       "    </tr>\n",
       "    <tr>\n",
       "      <th>559919</th>\n",
       "      <td>train/sporty_1051068_zipup.jpg</td>\n",
       "      <td>351</td>\n",
       "    </tr>\n",
       "    <tr>\n",
       "      <th>559920</th>\n",
       "      <td>train/sexy_164262_zipup.jpg</td>\n",
       "      <td>351</td>\n",
       "    </tr>\n",
       "    <tr>\n",
       "      <th>559921</th>\n",
       "      <td>train/sporty_1051072_zipup.jpg</td>\n",
       "      <td>351</td>\n",
       "    </tr>\n",
       "  </tbody>\n",
       "</table>\n",
       "<p>559922 rows × 2 columns</p>\n",
       "</div>"
      ],
      "text/plain": [
       "                            image_name  label_group\n",
       "0         train/manish_546453_best.jpg            0\n",
       "1         train/modern_709120_best.jpg            0\n",
       "2        train/classic_746922_best.jpg            0\n",
       "3        train/modern_1342796_best.jpg            0\n",
       "4        train/street_1223318_best.jpg            0\n",
       "...                                ...          ...\n",
       "559917   train/sporty_976385_zipup.jpg          351\n",
       "559918   train/street_192044_zipup.jpg          351\n",
       "559919  train/sporty_1051068_zipup.jpg          351\n",
       "559920     train/sexy_164262_zipup.jpg          351\n",
       "559921  train/sporty_1051072_zipup.jpg          351\n",
       "\n",
       "[559922 rows x 2 columns]"
      ]
     },
     "execution_count": 25,
     "metadata": {},
     "output_type": "execute_result"
    }
   ],
   "source": [
    "#reshaped_df = reshape_df(encoded_df,40000)\n",
    "train_df = get_train_df(encoded_df)\n",
    "train_df"
   ]
  },
  {
   "cell_type": "code",
   "execution_count": 26,
   "id": "patent-gospel",
   "metadata": {},
   "outputs": [],
   "source": [
    "class visual_kfashion:\n",
    "    def visualize(df, path, matrix_num, label_num):\n",
    "        '''\n",
    "        matrix_num : 2로 설정할경우 2*2 행렬로 총 4개 출력\n",
    "        label_num : 보고싶은 label_group의 번호\n",
    "        '''\n",
    "        print('※1장이 나올경우는 해당 label_group의 길이 수가 1이라는 것을 의미합니다.')\n",
    "        smp_dt = df.loc[df.label_group == label_num , 'image_group'][label_num]\n",
    "        print()\n",
    "        print(f'{label_num}번의 label_group의 이미지 수는 총 {len(smp_dt)}장 입니다.')\n",
    "        fig = plt.figure(figsize=(20, 20))\n",
    "        rows = matrix_num\n",
    "        cols = matrix_num\n",
    "        i = 1\n",
    "        \n",
    "        print()\n",
    "        print(tf.loc[tf.label_group == label_num, \"comb\"].unique()[0])\n",
    "        \n",
    "        for filename in smp_dt:\n",
    "            try:\n",
    "                img = cv2.imread(f'{path}/{filename}')\n",
    "                ax = fig.add_subplot(rows, cols, i)\n",
    "                ax.imshow(cv2.cvtColor(img, cv2.COLOR_BGR2RGB))\n",
    "                ax.set_xlabel(filename)\n",
    "                ax.set_xticks([]), ax.set_yticks([])\n",
    "                i += 1\n",
    "            except:\n",
    "                break"
   ]
  },
  {
   "cell_type": "code",
   "execution_count": null,
   "id": "9f135699",
   "metadata": {},
   "outputs": [],
   "source": [
    "path = '/mnt/hdd1/wearly/compatibility_rec/data/images/'\n",
    "visual_kfashion.visualize(df=reshaped_df, path=path, matrix_num=4, label_num=70)"
   ]
  },
  {
   "cell_type": "code",
   "execution_count": null,
   "id": "d90c07ae",
   "metadata": {},
   "outputs": [],
   "source": [
    "path = '/mnt/hdd1/wearly/compatibility_rec/data/images/'\n",
    "visual_kfashion.visualize(df=reshaped_df, path=path, matrix_num=4, label_num=770)"
   ]
  },
  {
   "cell_type": "code",
   "execution_count": null,
   "id": "reasonable-shame",
   "metadata": {},
   "outputs": [],
   "source": [
    "path = '/mnt/hdd1/wearly/compatibility_rec/data/images/'\n",
    "visual_kfashion.visualize(df=reshaped_df, path=path, matrix_num=4, label_num=46)"
   ]
  },
  {
   "cell_type": "code",
   "execution_count": null,
   "id": "9f354d4a",
   "metadata": {},
   "outputs": [],
   "source": [
    "path = '/mnt/hdd1/wearly/compatibility_rec/data/images/'\n",
    "visual_kfashion.visualize(df=reshaped_df, path=path, matrix_num=4, label_num=199)"
   ]
  },
  {
   "cell_type": "code",
   "execution_count": null,
   "id": "245d2b07",
   "metadata": {},
   "outputs": [],
   "source": [
    "path = '/mnt/hdd1/wearly/compatibility_rec/data/images/'\n",
    "visual_kfashion.visualize(df=reshaped_df, path=path, matrix_num=4, label_num=1999)"
   ]
  },
  {
   "cell_type": "code",
   "execution_count": null,
   "id": "a4902806",
   "metadata": {},
   "outputs": [],
   "source": [
    "path = '/mnt/hdd1/wearly/compatibility_rec/data/images/'\n",
    "visual_kfashion.visualize(df=reshaped_df, path=path, matrix_num=4, label_num=2536)"
   ]
  },
  {
   "cell_type": "code",
   "execution_count": null,
   "id": "a53550de",
   "metadata": {},
   "outputs": [],
   "source": [
    "path = '/mnt/hdd1/wearly/compatibility_rec/data/images/'\n",
    "visual_kfashion.visualize(df=reshaped_df, path=path, matrix_num=4, label_num=326)"
   ]
  },
  {
   "cell_type": "markdown",
   "id": "russian-father",
   "metadata": {},
   "source": [
    "## Validation setting"
   ]
  },
  {
   "cell_type": "code",
   "execution_count": 27,
   "id": "earlier-animation",
   "metadata": {},
   "outputs": [],
   "source": [
    "from sklearn.model_selection import StratifiedKFold"
   ]
  },
  {
   "cell_type": "code",
   "execution_count": 28,
   "id": "decimal-workshop",
   "metadata": {},
   "outputs": [],
   "source": [
    "def stratify_df(df):\n",
    "    \n",
    "    train_df = df.copy()\n",
    "    \n",
    "    train_df['fold'] = -1\n",
    "    n_folds = 10\n",
    "    \n",
    "    strat_kfold = StratifiedKFold(n_splits=n_folds, random_state = 123, shuffle=True)\n",
    "\n",
    "    for i, (_, train_index) in enumerate(strat_kfold.split(train_df.index, train_df['label_group'])):\n",
    "        train_df.iloc[train_index,-1] = i\n",
    "\n",
    "    train_df['fold'] = train_df['fold'].astype('int')\n",
    "    \n",
    "    if n_folds == 10:\n",
    "        train = train_df[train_df.fold != 0].reset_index(drop=True)\n",
    "        valid = train_df[train_df.fold == 0].reset_index(drop=True)\n",
    "        \n",
    "        return train,valid"
   ]
  },
  {
   "cell_type": "code",
   "execution_count": 29,
   "id": "tired-programmer",
   "metadata": {},
   "outputs": [
    {
     "name": "stderr",
     "output_type": "stream",
     "text": [
      "/home/user/anaconda3/envs/rapids/lib/python3.8/site-packages/sklearn/model_selection/_split.py:676: UserWarning: The least populated class in y has only 9 members, which is less than n_splits=10.\n",
      "  warnings.warn(\n"
     ]
    }
   ],
   "source": [
    "train,test = stratify_df(train_df)"
   ]
  },
  {
   "cell_type": "code",
   "execution_count": 30,
   "id": "248c98bf",
   "metadata": {},
   "outputs": [
    {
     "data": {
      "text/plain": [
       "352"
      ]
     },
     "execution_count": 30,
     "metadata": {},
     "output_type": "execute_result"
    }
   ],
   "source": [
    "train.label_group.nunique()"
   ]
  },
  {
   "cell_type": "code",
   "execution_count": 31,
   "id": "destroyed-skiing",
   "metadata": {},
   "outputs": [
    {
     "name": "stdout",
     "output_type": "stream",
     "text": [
      "train : 503929, test : 55993\n"
     ]
    }
   ],
   "source": [
    "print(f'train : {train.shape[0]}, test : {test.shape[0]}')"
   ]
  },
  {
   "cell_type": "code",
   "execution_count": 32,
   "id": "6a9eeb1d",
   "metadata": {},
   "outputs": [],
   "source": [
    "train.to_csv(\"separ_train.csv\")\n",
    "test.to_csv(\"separ_test.csv\")"
   ]
  },
  {
   "cell_type": "code",
   "execution_count": 33,
   "id": "7d822bf7",
   "metadata": {},
   "outputs": [],
   "source": [
    "import pandas as pd"
   ]
  },
  {
   "cell_type": "code",
   "execution_count": 4,
   "id": "d95746ff",
   "metadata": {},
   "outputs": [
    {
     "data": {
      "text/html": [
       "<div>\n",
       "<style scoped>\n",
       "    .dataframe tbody tr th:only-of-type {\n",
       "        vertical-align: middle;\n",
       "    }\n",
       "\n",
       "    .dataframe tbody tr th {\n",
       "        vertical-align: top;\n",
       "    }\n",
       "\n",
       "    .dataframe thead th {\n",
       "        text-align: right;\n",
       "    }\n",
       "</style>\n",
       "<table border=\"1\" class=\"dataframe\">\n",
       "  <thead>\n",
       "    <tr style=\"text-align: right;\">\n",
       "      <th></th>\n",
       "      <th>image_name</th>\n",
       "      <th>label_group</th>\n",
       "      <th>fold</th>\n",
       "    </tr>\n",
       "  </thead>\n",
       "  <tbody>\n",
       "    <tr>\n",
       "      <th>0</th>\n",
       "      <td>train/manish_546453_best.jpg</td>\n",
       "      <td>0</td>\n",
       "      <td>3</td>\n",
       "    </tr>\n",
       "    <tr>\n",
       "      <th>1</th>\n",
       "      <td>train/modern_709120_best.jpg</td>\n",
       "      <td>0</td>\n",
       "      <td>3</td>\n",
       "    </tr>\n",
       "    <tr>\n",
       "      <th>2</th>\n",
       "      <td>train/classic_746922_best.jpg</td>\n",
       "      <td>0</td>\n",
       "      <td>7</td>\n",
       "    </tr>\n",
       "    <tr>\n",
       "      <th>3</th>\n",
       "      <td>train/modern_1342796_best.jpg</td>\n",
       "      <td>0</td>\n",
       "      <td>3</td>\n",
       "    </tr>\n",
       "    <tr>\n",
       "      <th>4</th>\n",
       "      <td>train/street_1223318_best.jpg</td>\n",
       "      <td>0</td>\n",
       "      <td>1</td>\n",
       "    </tr>\n",
       "    <tr>\n",
       "      <th>...</th>\n",
       "      <td>...</td>\n",
       "      <td>...</td>\n",
       "      <td>...</td>\n",
       "    </tr>\n",
       "    <tr>\n",
       "      <th>503924</th>\n",
       "      <td>train/street_735225_zipup.jpg</td>\n",
       "      <td>351</td>\n",
       "      <td>7</td>\n",
       "    </tr>\n",
       "    <tr>\n",
       "      <th>503925</th>\n",
       "      <td>train/street_1177967_zipup.jpg</td>\n",
       "      <td>351</td>\n",
       "      <td>5</td>\n",
       "    </tr>\n",
       "    <tr>\n",
       "      <th>503926</th>\n",
       "      <td>train/genderless_1255580_zipup.jpg</td>\n",
       "      <td>351</td>\n",
       "      <td>6</td>\n",
       "    </tr>\n",
       "    <tr>\n",
       "      <th>503927</th>\n",
       "      <td>train/street_192044_zipup.jpg</td>\n",
       "      <td>351</td>\n",
       "      <td>8</td>\n",
       "    </tr>\n",
       "    <tr>\n",
       "      <th>503928</th>\n",
       "      <td>train/sporty_1051072_zipup.jpg</td>\n",
       "      <td>351</td>\n",
       "      <td>9</td>\n",
       "    </tr>\n",
       "  </tbody>\n",
       "</table>\n",
       "<p>503929 rows × 3 columns</p>\n",
       "</div>"
      ],
      "text/plain": [
       "                                image_name  label_group  fold\n",
       "0             train/manish_546453_best.jpg            0     3\n",
       "1             train/modern_709120_best.jpg            0     3\n",
       "2            train/classic_746922_best.jpg            0     7\n",
       "3            train/modern_1342796_best.jpg            0     3\n",
       "4            train/street_1223318_best.jpg            0     1\n",
       "...                                    ...          ...   ...\n",
       "503924       train/street_735225_zipup.jpg          351     7\n",
       "503925      train/street_1177967_zipup.jpg          351     5\n",
       "503926  train/genderless_1255580_zipup.jpg          351     6\n",
       "503927       train/street_192044_zipup.jpg          351     8\n",
       "503928      train/sporty_1051072_zipup.jpg          351     9\n",
       "\n",
       "[503929 rows x 3 columns]"
      ]
     },
     "execution_count": 4,
     "metadata": {},
     "output_type": "execute_result"
    }
   ],
   "source": [
    "tr = pd.read_csv(\"separ_train.csv\", index_col = 0)\n",
    "tr"
   ]
  },
  {
   "cell_type": "code",
   "execution_count": null,
   "id": "807d3d6d",
   "metadata": {},
   "outputs": [],
   "source": []
  }
 ],
 "metadata": {
  "kernelspec": {
   "display_name": "Python 3 (ipykernel)",
   "language": "python",
   "name": "python3"
  },
  "language_info": {
   "codemirror_mode": {
    "name": "ipython",
    "version": 3
   },
   "file_extension": ".py",
   "mimetype": "text/x-python",
   "name": "python",
   "nbconvert_exporter": "python",
   "pygments_lexer": "ipython3",
   "version": "3.8.12"
  }
 },
 "nbformat": 4,
 "nbformat_minor": 5
}
